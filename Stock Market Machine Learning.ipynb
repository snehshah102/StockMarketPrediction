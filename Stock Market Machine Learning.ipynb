{
 "cells": [
  {
   "cell_type": "code",
   "execution_count": null,
   "id": "8cc70182",
   "metadata": {},
   "outputs": [],
   "source": [
    "import quandl\n",
    "import pandas as pd\n",
    "import numpy as np\n",
    "import matplotlib.pyplot as plt\n",
    "import datetime\n",
    "\n",
    "from sklearn.model_selection import train_test_split\n",
    "from sklearn import preprocessing\n",
    "from sklearn.linear_model import LinearRegression"
   ]
  },
  {
   "cell_type": "code",
   "execution_count": null,
   "id": "e2d61401",
   "metadata": {
    "scrolled": false
   },
   "outputs": [],
   "source": [
    "quandl.ApiConfig.api_key = '626GjbsXrZz6XL9bpVw2'\n",
    "\n",
    "df = quandl.get(\"WIKI/AMZN\")\n",
    "df = df[['Adj. Close']]\n",
    "df"
   ]
  },
  {
   "cell_type": "code",
   "execution_count": null,
   "id": "dc010ef1",
   "metadata": {
    "scrolled": false
   },
   "outputs": [],
   "source": [
    "df['Adj. Close'].plot(figsize=(15,6), color='g')\n",
    "plt.legend(loc='upper left')\n",
    "plt.show()"
   ]
  },
  {
   "cell_type": "code",
   "execution_count": null,
   "id": "bd3b9591",
   "metadata": {},
   "outputs": [],
   "source": [
    "forecast = 30\n",
    "df['Prediction'] = df[['Adj. Close']].shift(-forecast)\n",
    "\n",
    "X = np.array(df.drop(['Prediction'], 1))\n",
    "X = preprocessing.scale(X)\n",
    "\n",
    "X_forecast = X[-forecast:]\n",
    "X = X[:-forecast]\n",
    "\n",
    "y = np.array(df['Prediction'])\n",
    "y = y[:-forecast]"
   ]
  },
  {
   "cell_type": "code",
   "execution_count": null,
   "id": "da2761ed",
   "metadata": {},
   "outputs": [],
   "source": [
    "X_train, X_test, y_train, y_test = train_test_split(X, y, test_size=0.2)\n",
    "\n",
    "clf = LinearRegression()\n",
    "clf.fit(X_train, y_train)\n",
    "\n",
    "confidence = clf.score(X_test, y_test)\n",
    "\n",
    "forecast_predicted = clf.predict(X_forecast)\n",
    "print(forecast_predicted)"
   ]
  },
  {
   "cell_type": "code",
   "execution_count": null,
   "id": "62a745be",
   "metadata": {},
   "outputs": [],
   "source": [
    "dates = pd.date_range(start=\"2018-03-28\", end=\"2018-04-26\")\n",
    "plt.plot(dates, forecast_predicted, color='y')\n",
    "df['Adj. Close'].plot(color='g')\n",
    "plt.xlim(xmin=datetime.date(2017,4,26))"
   ]
  },
  {
   "cell_type": "code",
   "execution_count": null,
   "id": "e920dfba",
   "metadata": {},
   "outputs": [],
   "source": []
  }
 ],
 "metadata": {
  "kernelspec": {
   "display_name": "Python 3 (ipykernel)",
   "language": "python",
   "name": "python3"
  },
  "language_info": {
   "codemirror_mode": {
    "name": "ipython",
    "version": 3
   },
   "file_extension": ".py",
   "mimetype": "text/x-python",
   "name": "python",
   "nbconvert_exporter": "python",
   "pygments_lexer": "ipython3",
   "version": "3.10.1"
  }
 },
 "nbformat": 4,
 "nbformat_minor": 5
}
